{
 "cells": [
  {
   "cell_type": "code",
   "execution_count": 1,
   "metadata": {},
   "outputs": [
    {
     "name": "stdout",
     "output_type": "stream",
     "text": [
      "Requirement already satisfied: psycopg2 in ./.venv/lib/python3.10/site-packages (2.9.9)\n"
     ]
    }
   ],
   "source": [
    "! pip install psycopg2"
   ]
  },
  {
   "cell_type": "code",
   "execution_count": 23,
   "metadata": {},
   "outputs": [
    {
     "name": "stdout",
     "output_type": "stream",
     "text": [
      "Collecting pyarrow\n",
      "  Downloading pyarrow-14.0.1-cp310-cp310-manylinux_2_28_x86_64.whl.metadata (3.0 kB)\n",
      "Requirement already satisfied: numpy>=1.16.6 in ./.venv/lib/python3.10/site-packages (from pyarrow) (1.26.2)\n",
      "Downloading pyarrow-14.0.1-cp310-cp310-manylinux_2_28_x86_64.whl (38.0 MB)\n",
      "\u001b[2K   \u001b[90m━━━━━━━━━━━━━━━━━━━━━━━━━━━━━━━━━━━━━━━━\u001b[0m \u001b[32m38.0/38.0 MB\u001b[0m \u001b[31m8.0 MB/s\u001b[0m eta \u001b[36m0:00:00\u001b[0m00:01\u001b[0m00:01\u001b[0mm\n",
      "\u001b[?25hInstalling collected packages: pyarrow\n",
      "Successfully installed pyarrow-14.0.1\n",
      "Collecting fastparquet\n",
      "  Downloading fastparquet-2023.10.1-cp310-cp310-manylinux_2_17_x86_64.manylinux2014_x86_64.whl.metadata (4.1 kB)\n",
      "Requirement already satisfied: pandas>=1.5.0 in ./.venv/lib/python3.10/site-packages (from fastparquet) (2.1.4)\n",
      "Requirement already satisfied: numpy>=1.20.3 in ./.venv/lib/python3.10/site-packages (from fastparquet) (1.26.2)\n",
      "Collecting cramjam>=2.3 (from fastparquet)\n",
      "  Downloading cramjam-2.7.0-cp310-cp310-manylinux_2_17_x86_64.manylinux2014_x86_64.whl.metadata (4.0 kB)\n",
      "Collecting fsspec (from fastparquet)\n",
      "  Downloading fsspec-2023.12.1-py3-none-any.whl.metadata (6.8 kB)\n",
      "Requirement already satisfied: packaging in ./.venv/lib/python3.10/site-packages (from fastparquet) (23.2)\n",
      "Requirement already satisfied: python-dateutil>=2.8.2 in ./.venv/lib/python3.10/site-packages (from pandas>=1.5.0->fastparquet) (2.8.2)\n",
      "Requirement already satisfied: pytz>=2020.1 in ./.venv/lib/python3.10/site-packages (from pandas>=1.5.0->fastparquet) (2023.3.post1)\n",
      "Requirement already satisfied: tzdata>=2022.1 in ./.venv/lib/python3.10/site-packages (from pandas>=1.5.0->fastparquet) (2023.3)\n",
      "Requirement already satisfied: six>=1.5 in ./.venv/lib/python3.10/site-packages (from python-dateutil>=2.8.2->pandas>=1.5.0->fastparquet) (1.16.0)\n",
      "Downloading fastparquet-2023.10.1-cp310-cp310-manylinux_2_17_x86_64.manylinux2014_x86_64.whl (1.7 MB)\n",
      "\u001b[2K   \u001b[90m━━━━━━━━━━━━━━━━━━━━━━━━━━━━━━━━━━━━━━━━\u001b[0m \u001b[32m1.7/1.7 MB\u001b[0m \u001b[31m2.7 MB/s\u001b[0m eta \u001b[36m0:00:00\u001b[0ma \u001b[36m0:00:01\u001b[0m0m\n",
      "\u001b[?25hDownloading cramjam-2.7.0-cp310-cp310-manylinux_2_17_x86_64.manylinux2014_x86_64.whl (1.6 MB)\n",
      "\u001b[2K   \u001b[90m━━━━━━━━━━━━━━━━━━━━━━━━━━━━━━━━━━━━━━━━\u001b[0m \u001b[32m1.6/1.6 MB\u001b[0m \u001b[31m3.6 MB/s\u001b[0m eta \u001b[36m0:00:00\u001b[0ma \u001b[36m0:00:01\u001b[0m\n",
      "\u001b[?25hDownloading fsspec-2023.12.1-py3-none-any.whl (168 kB)\n",
      "\u001b[2K   \u001b[90m━━━━━━━━━━━━━━━━━━━━━━━━━━━━━━━━━━━━━━━━\u001b[0m \u001b[32m168.9/168.9 kB\u001b[0m \u001b[31m11.6 MB/s\u001b[0m eta \u001b[36m0:00:00\u001b[0m\n",
      "\u001b[?25hInstalling collected packages: fsspec, cramjam, fastparquet\n",
      "Successfully installed cramjam-2.7.0 fastparquet-2023.10.1 fsspec-2023.12.1\n"
     ]
    }
   ],
   "source": [
    "! pip install pyarrow\n",
    "\n",
    "! pip install fastparquet"
   ]
  },
  {
   "cell_type": "code",
   "execution_count": 7,
   "metadata": {},
   "outputs": [],
   "source": [
    "import psycopg2 as ps2"
   ]
  },
  {
   "cell_type": "code",
   "execution_count": 16,
   "metadata": {},
   "outputs": [],
   "source": [
    "import pandas as pd"
   ]
  },
  {
   "cell_type": "code",
   "execution_count": 24,
   "metadata": {},
   "outputs": [],
   "source": [
    "import pyarrow"
   ]
  },
  {
   "cell_type": "code",
   "execution_count": 11,
   "metadata": {},
   "outputs": [],
   "source": [
    "connection = ps2.connect(\n",
    "        host=\"172.17.0.1\",\n",
    "        port=\"5434\",\n",
    "        user=\"denis\",\n",
    "        password=\"000111\",\n",
    "        database=\"taxi\"\n",
    "    )"
   ]
  },
  {
   "cell_type": "code",
   "execution_count": 12,
   "metadata": {},
   "outputs": [],
   "source": [
    "cur = connection.cursor()"
   ]
  },
  {
   "cell_type": "code",
   "execution_count": 13,
   "metadata": {},
   "outputs": [],
   "source": [
    "query = \"SELECT * FROM statistic_taxi\""
   ]
  },
  {
   "cell_type": "code",
   "execution_count": 14,
   "metadata": {},
   "outputs": [],
   "source": [
    "try:\n",
    "    cur.execute(query)\n",
    "    df=cur.fetchall()\n",
    "except ps2.Error as e:\n",
    "    pass"
   ]
  },
  {
   "cell_type": "code",
   "execution_count": 17,
   "metadata": {},
   "outputs": [],
   "source": [
    "df = pd.DataFrame(df)"
   ]
  },
  {
   "cell_type": "code",
   "execution_count": 18,
   "metadata": {},
   "outputs": [
    {
     "data": {
      "text/html": [
       "<div>\n",
       "<style scoped>\n",
       "    .dataframe tbody tr th:only-of-type {\n",
       "        vertical-align: middle;\n",
       "    }\n",
       "\n",
       "    .dataframe tbody tr th {\n",
       "        vertical-align: top;\n",
       "    }\n",
       "\n",
       "    .dataframe thead th {\n",
       "        text-align: right;\n",
       "    }\n",
       "</style>\n",
       "<table border=\"1\" class=\"dataframe\">\n",
       "  <thead>\n",
       "    <tr style=\"text-align: right;\">\n",
       "      <th></th>\n",
       "      <th>0</th>\n",
       "      <th>1</th>\n",
       "      <th>2</th>\n",
       "      <th>3</th>\n",
       "      <th>4</th>\n",
       "      <th>5</th>\n",
       "      <th>6</th>\n",
       "      <th>7</th>\n",
       "      <th>8</th>\n",
       "      <th>9</th>\n",
       "      <th>10</th>\n",
       "      <th>11</th>\n",
       "      <th>12</th>\n",
       "      <th>13</th>\n",
       "      <th>14</th>\n",
       "      <th>15</th>\n",
       "    </tr>\n",
       "  </thead>\n",
       "  <tbody>\n",
       "    <tr>\n",
       "      <th>0</th>\n",
       "      <td>2020-01-01</td>\n",
       "      <td>1.51383929101068941400</td>\n",
       "      <td>0.3</td>\n",
       "      <td>145.55</td>\n",
       "      <td>63.52845567037217193200</td>\n",
       "      <td>-207.3</td>\n",
       "      <td>465.30</td>\n",
       "      <td>19.47466454697528740400</td>\n",
       "      <td>-73.92</td>\n",
       "      <td>281.42</td>\n",
       "      <td>5.74214903486813225900</td>\n",
       "      <td>-103.30</td>\n",
       "      <td>433.04</td>\n",
       "      <td>9.74089145677371899100</td>\n",
       "      <td>-79.80</td>\n",
       "      <td>350.42</td>\n",
       "    </tr>\n",
       "    <tr>\n",
       "      <th>1</th>\n",
       "      <td>2020-01-02</td>\n",
       "      <td>1.69379441141424035000</td>\n",
       "      <td>0.3</td>\n",
       "      <td>174.36</td>\n",
       "      <td>68.83355896463307359700</td>\n",
       "      <td>-108.3</td>\n",
       "      <td>492.80</td>\n",
       "      <td>16.00464155816608543200</td>\n",
       "      <td>-135.30</td>\n",
       "      <td>328.04</td>\n",
       "      <td>4.73638569851083342200</td>\n",
       "      <td>-68.30</td>\n",
       "      <td>215.54</td>\n",
       "      <td>8.73161936727576719800</td>\n",
       "      <td>-61.42</td>\n",
       "      <td>352.30</td>\n",
       "    </tr>\n",
       "    <tr>\n",
       "      <th>2</th>\n",
       "      <td>2020-01-03</td>\n",
       "      <td>1.76895107977082415200</td>\n",
       "      <td>0.0</td>\n",
       "      <td>187.42</td>\n",
       "      <td>68.87285147642133098300</td>\n",
       "      <td>-1242.3</td>\n",
       "      <td>1242.30</td>\n",
       "      <td>16.31610841780520052900</td>\n",
       "      <td>-70.30</td>\n",
       "      <td>370.30</td>\n",
       "      <td>4.57855883649184662800</td>\n",
       "      <td>-33.30</td>\n",
       "      <td>409.59</td>\n",
       "      <td>8.46353018951079770800</td>\n",
       "      <td>-61.42</td>\n",
       "      <td>348.30</td>\n",
       "    </tr>\n",
       "    <tr>\n",
       "      <th>3</th>\n",
       "      <td>2020-01-04</td>\n",
       "      <td>1.68789142901170021900</td>\n",
       "      <td>-18.3</td>\n",
       "      <td>152.54</td>\n",
       "      <td>65.66211352404433535500</td>\n",
       "      <td>-180.3</td>\n",
       "      <td>965.80</td>\n",
       "      <td>18.38299230625295807500</td>\n",
       "      <td>-61.42</td>\n",
       "      <td>481.30</td>\n",
       "      <td>5.13907080668772632700</td>\n",
       "      <td>-62.42</td>\n",
       "      <td>313.30</td>\n",
       "      <td>9.12793193400328002400</td>\n",
       "      <td>-55.30</td>\n",
       "      <td>577.80</td>\n",
       "    </tr>\n",
       "    <tr>\n",
       "      <th>4</th>\n",
       "      <td>2020-01-05</td>\n",
       "      <td>1.69040346422306456200</td>\n",
       "      <td>0.3</td>\n",
       "      <td>435.42</td>\n",
       "      <td>67.70139476686416663600</td>\n",
       "      <td>-90.3</td>\n",
       "      <td>596.42</td>\n",
       "      <td>17.34932960414136581700</td>\n",
       "      <td>-102.42</td>\n",
       "      <td>375.30</td>\n",
       "      <td>4.77557379261276512200</td>\n",
       "      <td>-55.30</td>\n",
       "      <td>333.34</td>\n",
       "      <td>8.48329837215863786400</td>\n",
       "      <td>-65.30</td>\n",
       "      <td>264.36</td>\n",
       "    </tr>\n",
       "  </tbody>\n",
       "</table>\n",
       "</div>"
      ],
      "text/plain": [
       "           0                       1     2       3                        4   \\\n",
       "0  2020-01-01  1.51383929101068941400   0.3  145.55  63.52845567037217193200   \n",
       "1  2020-01-02  1.69379441141424035000   0.3  174.36  68.83355896463307359700   \n",
       "2  2020-01-03  1.76895107977082415200   0.0  187.42  68.87285147642133098300   \n",
       "3  2020-01-04  1.68789142901170021900 -18.3  152.54  65.66211352404433535500   \n",
       "4  2020-01-05  1.69040346422306456200   0.3  435.42  67.70139476686416663600   \n",
       "\n",
       "       5        6                        7       8       9   \\\n",
       "0  -207.3   465.30  19.47466454697528740400  -73.92  281.42   \n",
       "1  -108.3   492.80  16.00464155816608543200 -135.30  328.04   \n",
       "2 -1242.3  1242.30  16.31610841780520052900  -70.30  370.30   \n",
       "3  -180.3   965.80  18.38299230625295807500  -61.42  481.30   \n",
       "4   -90.3   596.42  17.34932960414136581700 -102.42  375.30   \n",
       "\n",
       "                       10      11      12                      13     14  \\\n",
       "0  5.74214903486813225900 -103.30  433.04  9.74089145677371899100 -79.80   \n",
       "1  4.73638569851083342200  -68.30  215.54  8.73161936727576719800 -61.42   \n",
       "2  4.57855883649184662800  -33.30  409.59  8.46353018951079770800 -61.42   \n",
       "3  5.13907080668772632700  -62.42  313.30  9.12793193400328002400 -55.30   \n",
       "4  4.77557379261276512200  -55.30  333.34  8.48329837215863786400 -65.30   \n",
       "\n",
       "       15  \n",
       "0  350.42  \n",
       "1  352.30  \n",
       "2  348.30  \n",
       "3  577.80  \n",
       "4  264.36  "
      ]
     },
     "execution_count": 18,
     "metadata": {},
     "output_type": "execute_result"
    }
   ],
   "source": [
    "df.head()"
   ]
  },
  {
   "cell_type": "code",
   "execution_count": 25,
   "metadata": {},
   "outputs": [],
   "source": [
    "df.to_parquet(path=\"./db_data/parquet_data.parquet.gzip\", compression='gzip')"
   ]
  }
 ],
 "metadata": {
  "kernelspec": {
   "display_name": ".venv",
   "language": "python",
   "name": "python3"
  },
  "language_info": {
   "codemirror_mode": {
    "name": "ipython",
    "version": 3
   },
   "file_extension": ".py",
   "mimetype": "text/x-python",
   "name": "python",
   "nbconvert_exporter": "python",
   "pygments_lexer": "ipython3",
   "version": "3.10.12"
  }
 },
 "nbformat": 4,
 "nbformat_minor": 2
}
